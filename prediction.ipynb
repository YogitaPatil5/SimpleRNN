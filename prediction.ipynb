{
 "cells": [
  {
   "cell_type": "code",
   "execution_count": 17,
   "metadata": {},
   "outputs": [],
   "source": [
    "# Import the libraries to load the model\n",
    "import numpy as np \n",
    "import pandas as pd\n",
    "import tensorflow as tf\n",
    "from tensorflow.keras.datasets import imdb\n",
    "from tensorflow.keras.models import load_model\n",
    "from tensorflow.keras.preprocessing import sequence"
   ]
  },
  {
   "cell_type": "code",
   "execution_count": 18,
   "metadata": {},
   "outputs": [],
   "source": [
    "#Load the imdb dataset word index\n",
    "word_index = imdb.get_word_index()\n",
    "reversed_word_index = dict([(value, key) for (key, value) in word_index.items()])   \n"
   ]
  },
  {
   "cell_type": "code",
   "execution_count": 19,
   "metadata": {},
   "outputs": [
    {
     "name": "stderr",
     "output_type": "stream",
     "text": [
      "WARNING:absl:Compiled the loaded model, but the compiled metrics have yet to be built. `model.compile_metrics` will be empty until you train or evaluate the model.\n"
     ]
    },
    {
     "data": {
      "text/html": [
       "<pre style=\"white-space:pre;overflow-x:auto;line-height:normal;font-family:Menlo,'DejaVu Sans Mono',consolas,'Courier New',monospace\"><span style=\"font-weight: bold\">Model: \"sequential_2\"</span>\n",
       "</pre>\n"
      ],
      "text/plain": [
       "\u001b[1mModel: \"sequential_2\"\u001b[0m\n"
      ]
     },
     "metadata": {},
     "output_type": "display_data"
    },
    {
     "data": {
      "text/html": [
       "<pre style=\"white-space:pre;overflow-x:auto;line-height:normal;font-family:Menlo,'DejaVu Sans Mono',consolas,'Courier New',monospace\">┏━━━━━━━━━━━━━━━━━━━━━━━━━━━━━━━━━┳━━━━━━━━━━━━━━━━━━━━━━━━┳━━━━━━━━━━━━━━━┓\n",
       "┃<span style=\"font-weight: bold\"> Layer (type)                    </span>┃<span style=\"font-weight: bold\"> Output Shape           </span>┃<span style=\"font-weight: bold\">       Param # </span>┃\n",
       "┡━━━━━━━━━━━━━━━━━━━━━━━━━━━━━━━━━╇━━━━━━━━━━━━━━━━━━━━━━━━╇━━━━━━━━━━━━━━━┩\n",
       "│ embedding_2 (<span style=\"color: #0087ff; text-decoration-color: #0087ff\">Embedding</span>)         │ (<span style=\"color: #00af00; text-decoration-color: #00af00\">32</span>, <span style=\"color: #00af00; text-decoration-color: #00af00\">500</span>, <span style=\"color: #00af00; text-decoration-color: #00af00\">128</span>)         │     <span style=\"color: #00af00; text-decoration-color: #00af00\">1,280,000</span> │\n",
       "├─────────────────────────────────┼────────────────────────┼───────────────┤\n",
       "│ simple_rnn_4 (<span style=\"color: #0087ff; text-decoration-color: #0087ff\">SimpleRNN</span>)        │ (<span style=\"color: #00af00; text-decoration-color: #00af00\">32</span>, <span style=\"color: #00af00; text-decoration-color: #00af00\">500</span>, <span style=\"color: #00af00; text-decoration-color: #00af00\">64</span>)          │        <span style=\"color: #00af00; text-decoration-color: #00af00\">12,352</span> │\n",
       "├─────────────────────────────────┼────────────────────────┼───────────────┤\n",
       "│ dropout_2 (<span style=\"color: #0087ff; text-decoration-color: #0087ff\">Dropout</span>)             │ (<span style=\"color: #00af00; text-decoration-color: #00af00\">32</span>, <span style=\"color: #00af00; text-decoration-color: #00af00\">500</span>, <span style=\"color: #00af00; text-decoration-color: #00af00\">64</span>)          │             <span style=\"color: #00af00; text-decoration-color: #00af00\">0</span> │\n",
       "├─────────────────────────────────┼────────────────────────┼───────────────┤\n",
       "│ simple_rnn_5 (<span style=\"color: #0087ff; text-decoration-color: #0087ff\">SimpleRNN</span>)        │ (<span style=\"color: #00af00; text-decoration-color: #00af00\">32</span>, <span style=\"color: #00af00; text-decoration-color: #00af00\">64</span>)               │         <span style=\"color: #00af00; text-decoration-color: #00af00\">8,256</span> │\n",
       "├─────────────────────────────────┼────────────────────────┼───────────────┤\n",
       "│ dense_4 (<span style=\"color: #0087ff; text-decoration-color: #0087ff\">Dense</span>)                 │ (<span style=\"color: #00af00; text-decoration-color: #00af00\">32</span>, <span style=\"color: #00af00; text-decoration-color: #00af00\">64</span>)               │         <span style=\"color: #00af00; text-decoration-color: #00af00\">4,160</span> │\n",
       "├─────────────────────────────────┼────────────────────────┼───────────────┤\n",
       "│ dense_5 (<span style=\"color: #0087ff; text-decoration-color: #0087ff\">Dense</span>)                 │ (<span style=\"color: #00af00; text-decoration-color: #00af00\">32</span>, <span style=\"color: #00af00; text-decoration-color: #00af00\">1</span>)                │            <span style=\"color: #00af00; text-decoration-color: #00af00\">65</span> │\n",
       "└─────────────────────────────────┴────────────────────────┴───────────────┘\n",
       "</pre>\n"
      ],
      "text/plain": [
       "┏━━━━━━━━━━━━━━━━━━━━━━━━━━━━━━━━━┳━━━━━━━━━━━━━━━━━━━━━━━━┳━━━━━━━━━━━━━━━┓\n",
       "┃\u001b[1m \u001b[0m\u001b[1mLayer (type)                   \u001b[0m\u001b[1m \u001b[0m┃\u001b[1m \u001b[0m\u001b[1mOutput Shape          \u001b[0m\u001b[1m \u001b[0m┃\u001b[1m \u001b[0m\u001b[1m      Param #\u001b[0m\u001b[1m \u001b[0m┃\n",
       "┡━━━━━━━━━━━━━━━━━━━━━━━━━━━━━━━━━╇━━━━━━━━━━━━━━━━━━━━━━━━╇━━━━━━━━━━━━━━━┩\n",
       "│ embedding_2 (\u001b[38;5;33mEmbedding\u001b[0m)         │ (\u001b[38;5;34m32\u001b[0m, \u001b[38;5;34m500\u001b[0m, \u001b[38;5;34m128\u001b[0m)         │     \u001b[38;5;34m1,280,000\u001b[0m │\n",
       "├─────────────────────────────────┼────────────────────────┼───────────────┤\n",
       "│ simple_rnn_4 (\u001b[38;5;33mSimpleRNN\u001b[0m)        │ (\u001b[38;5;34m32\u001b[0m, \u001b[38;5;34m500\u001b[0m, \u001b[38;5;34m64\u001b[0m)          │        \u001b[38;5;34m12,352\u001b[0m │\n",
       "├─────────────────────────────────┼────────────────────────┼───────────────┤\n",
       "│ dropout_2 (\u001b[38;5;33mDropout\u001b[0m)             │ (\u001b[38;5;34m32\u001b[0m, \u001b[38;5;34m500\u001b[0m, \u001b[38;5;34m64\u001b[0m)          │             \u001b[38;5;34m0\u001b[0m │\n",
       "├─────────────────────────────────┼────────────────────────┼───────────────┤\n",
       "│ simple_rnn_5 (\u001b[38;5;33mSimpleRNN\u001b[0m)        │ (\u001b[38;5;34m32\u001b[0m, \u001b[38;5;34m64\u001b[0m)               │         \u001b[38;5;34m8,256\u001b[0m │\n",
       "├─────────────────────────────────┼────────────────────────┼───────────────┤\n",
       "│ dense_4 (\u001b[38;5;33mDense\u001b[0m)                 │ (\u001b[38;5;34m32\u001b[0m, \u001b[38;5;34m64\u001b[0m)               │         \u001b[38;5;34m4,160\u001b[0m │\n",
       "├─────────────────────────────────┼────────────────────────┼───────────────┤\n",
       "│ dense_5 (\u001b[38;5;33mDense\u001b[0m)                 │ (\u001b[38;5;34m32\u001b[0m, \u001b[38;5;34m1\u001b[0m)                │            \u001b[38;5;34m65\u001b[0m │\n",
       "└─────────────────────────────────┴────────────────────────┴───────────────┘\n"
      ]
     },
     "metadata": {},
     "output_type": "display_data"
    },
    {
     "data": {
      "text/html": [
       "<pre style=\"white-space:pre;overflow-x:auto;line-height:normal;font-family:Menlo,'DejaVu Sans Mono',consolas,'Courier New',monospace\"><span style=\"font-weight: bold\"> Total params: </span><span style=\"color: #00af00; text-decoration-color: #00af00\">1,304,835</span> (4.98 MB)\n",
       "</pre>\n"
      ],
      "text/plain": [
       "\u001b[1m Total params: \u001b[0m\u001b[38;5;34m1,304,835\u001b[0m (4.98 MB)\n"
      ]
     },
     "metadata": {},
     "output_type": "display_data"
    },
    {
     "data": {
      "text/html": [
       "<pre style=\"white-space:pre;overflow-x:auto;line-height:normal;font-family:Menlo,'DejaVu Sans Mono',consolas,'Courier New',monospace\"><span style=\"font-weight: bold\"> Trainable params: </span><span style=\"color: #00af00; text-decoration-color: #00af00\">1,304,833</span> (4.98 MB)\n",
       "</pre>\n"
      ],
      "text/plain": [
       "\u001b[1m Trainable params: \u001b[0m\u001b[38;5;34m1,304,833\u001b[0m (4.98 MB)\n"
      ]
     },
     "metadata": {},
     "output_type": "display_data"
    },
    {
     "data": {
      "text/html": [
       "<pre style=\"white-space:pre;overflow-x:auto;line-height:normal;font-family:Menlo,'DejaVu Sans Mono',consolas,'Courier New',monospace\"><span style=\"font-weight: bold\"> Non-trainable params: </span><span style=\"color: #00af00; text-decoration-color: #00af00\">0</span> (0.00 B)\n",
       "</pre>\n"
      ],
      "text/plain": [
       "\u001b[1m Non-trainable params: \u001b[0m\u001b[38;5;34m0\u001b[0m (0.00 B)\n"
      ]
     },
     "metadata": {},
     "output_type": "display_data"
    },
    {
     "data": {
      "text/html": [
       "<pre style=\"white-space:pre;overflow-x:auto;line-height:normal;font-family:Menlo,'DejaVu Sans Mono',consolas,'Courier New',monospace\"><span style=\"font-weight: bold\"> Optimizer params: </span><span style=\"color: #00af00; text-decoration-color: #00af00\">2</span> (12.00 B)\n",
       "</pre>\n"
      ],
      "text/plain": [
       "\u001b[1m Optimizer params: \u001b[0m\u001b[38;5;34m2\u001b[0m (12.00 B)\n"
      ]
     },
     "metadata": {},
     "output_type": "display_data"
    }
   ],
   "source": [
    "model = load_model('imdb_model_simplernn.h5')\n",
    "model.summary()"
   ]
  },
  {
   "cell_type": "code",
   "execution_count": 20,
   "metadata": {},
   "outputs": [
    {
     "data": {
      "text/plain": [
       "[array([[ 0.02789769, -0.04482168, -0.01933881, ..., -0.02106926,\n",
       "         -0.03121301,  0.01444407],\n",
       "        [ 0.02108775,  0.00456652,  0.03380434, ...,  0.00870889,\n",
       "          0.00116659,  0.00409119],\n",
       "        [-0.02809718, -0.01023606,  0.03970403, ..., -0.02723616,\n",
       "          0.06720366, -0.02911876],\n",
       "        ...,\n",
       "        [-0.00334939, -0.09264677,  0.06236063, ...,  0.09409677,\n",
       "         -0.01683828, -0.0814027 ],\n",
       "        [-0.01196061, -0.02286817,  0.06171647, ...,  0.02311245,\n",
       "         -0.03978271, -0.06004012],\n",
       "        [-0.07312105, -0.05919327,  0.05859747, ...,  0.02372818,\n",
       "         -0.05447814,  0.00302362]], dtype=float32),\n",
       " array([[ 0.16212568,  0.13568945, -0.03354223, ..., -0.01994672,\n",
       "         -0.00497482, -0.01630603],\n",
       "        [-0.01651543, -0.14108743, -0.15021351, ..., -0.02731824,\n",
       "          0.08920421, -0.2046706 ],\n",
       "        [-0.02702621, -0.02616062,  0.17381112, ...,  0.10729037,\n",
       "         -0.04829021,  0.1497876 ],\n",
       "        ...,\n",
       "        [-0.04517854,  0.04301297, -0.08257622, ...,  0.10338549,\n",
       "          0.04387253, -0.15960091],\n",
       "        [-0.09583793, -0.08264303, -0.06000534, ...,  0.03608638,\n",
       "          0.27543485, -0.2120342 ],\n",
       "        [-0.2195906 ,  0.10455624,  0.13908175, ..., -0.16192232,\n",
       "          0.02011337, -0.05297811]], dtype=float32),\n",
       " array([[-0.1663811 , -0.02514463, -0.10581181, ..., -0.22258712,\n",
       "          0.08220867,  0.01555251],\n",
       "        [-0.27639967,  0.10093164,  0.02974905, ..., -0.12300128,\n",
       "          0.00454736, -0.00831865],\n",
       "        [ 0.2863339 ,  0.1271029 ,  0.00223392, ..., -0.14886494,\n",
       "          0.09457364,  0.09534649],\n",
       "        ...,\n",
       "        [-0.10742828,  0.16419171,  0.11001357, ..., -0.15419053,\n",
       "          0.10446373,  0.04368474],\n",
       "        [ 0.0983832 ,  0.19768062,  0.0306493 , ..., -0.323034  ,\n",
       "         -0.00615076,  0.14502026],\n",
       "        [-0.00225563,  0.14536776, -0.06203682, ...,  0.04744251,\n",
       "         -0.2723699 ,  0.20234504]], dtype=float32),\n",
       " array([ 1.70098268e-03, -1.53573258e-02, -3.59466560e-02,  6.63973624e-03,\n",
       "        -6.55387482e-03,  2.32344437e-02,  2.87918709e-02, -3.85757908e-02,\n",
       "        -6.95558637e-03,  3.23089841e-03, -1.07872766e-02,  4.16271538e-02,\n",
       "         1.31910876e-03, -3.14320065e-02, -1.42604774e-02, -2.36694254e-02,\n",
       "        -4.21944447e-03, -1.09318895e-02, -1.07385088e-02,  6.26986963e-04,\n",
       "         6.24604523e-03, -3.01233511e-02,  3.72013897e-02,  8.01846472e-05,\n",
       "        -2.88891047e-02, -1.37927989e-03, -6.45724591e-03, -3.87910730e-03,\n",
       "         9.57327150e-03,  3.36356200e-02, -3.33782397e-02,  2.86102807e-03,\n",
       "         1.31875565e-02,  9.64451488e-03, -7.10428134e-03, -2.44129542e-02,\n",
       "         2.05906965e-02, -3.28309322e-03, -5.58345988e-02,  3.36343534e-02,\n",
       "        -2.37508323e-02, -3.93540412e-02, -2.77646538e-02,  2.23733932e-02,\n",
       "        -4.54433039e-02,  5.01318043e-03,  5.11487422e-04, -2.66963877e-02,\n",
       "         1.58954468e-02, -2.68316548e-02,  2.03442797e-02, -3.77415605e-02,\n",
       "         4.02285494e-02, -2.23127939e-02, -3.67961451e-02, -6.14172081e-03,\n",
       "        -3.95114208e-03,  2.64016781e-02,  4.28055879e-03,  1.48243187e-02,\n",
       "        -9.00210533e-03,  2.63570491e-02,  9.44649859e-04,  1.28394570e-02],\n",
       "       dtype=float32),\n",
       " array([[-0.245422  , -0.11889546,  0.13812816, ...,  0.02290646,\n",
       "         -0.03094956,  0.04320785],\n",
       "        [ 0.1353225 ,  0.13809356, -0.11511371, ...,  0.20527315,\n",
       "          0.04157368,  0.06148008],\n",
       "        [ 0.00920696,  0.18162322,  0.19757979, ...,  0.13777716,\n",
       "         -0.07254342, -0.03376789],\n",
       "        ...,\n",
       "        [-0.09362715, -0.07779254, -0.01611361, ..., -0.17257367,\n",
       "         -0.17842384, -0.02648085],\n",
       "        [ 0.1116404 , -0.13844198, -0.18027414, ...,  0.06552283,\n",
       "          0.17795001, -0.03553406],\n",
       "        [ 0.05984519,  0.02377524,  0.09183085, ...,  0.20777453,\n",
       "         -0.13251454, -0.1085398 ]], dtype=float32),\n",
       " array([[ 0.22574425, -0.15614633,  0.09288613, ...,  0.05046513,\n",
       "          0.2952785 ,  0.16690306],\n",
       "        [-0.17093763,  0.011063  ,  0.04410014, ...,  0.14794196,\n",
       "         -0.02461718,  0.13697316],\n",
       "        [-0.0918714 ,  0.00511298,  0.20104289, ..., -0.00605374,\n",
       "          0.20089687,  0.18956965],\n",
       "        ...,\n",
       "        [-0.06969612,  0.06317732, -0.03885581, ...,  0.11239159,\n",
       "         -0.02360919, -0.08153756],\n",
       "        [ 0.02433405,  0.1429298 , -0.19708271, ..., -0.05955214,\n",
       "         -0.05047773, -0.19204439],\n",
       "        [ 0.12972859,  0.04361757,  0.14739797, ...,  0.04213481,\n",
       "         -0.19017692, -0.06077225]], dtype=float32),\n",
       " array([-0.03685243,  0.01869076, -0.00525858,  0.01704809, -0.029166  ,\n",
       "        -0.08018986, -0.00684727, -0.0712749 , -0.04550667, -0.04566253,\n",
       "        -0.00520004,  0.05021555, -0.00841532, -0.05794698,  0.00370725,\n",
       "        -0.03497979,  0.00385072,  0.02701965,  0.03847728,  0.05594222,\n",
       "         0.04767501, -0.04178423, -0.01857818,  0.02391746,  0.03145098,\n",
       "         0.00380039, -0.03558135,  0.00226735,  0.0116312 ,  0.0125972 ,\n",
       "         0.03823145, -0.0210856 ,  0.00164012, -0.04160109, -0.00626997,\n",
       "        -0.05708151,  0.01922635,  0.00385449, -0.07262737, -0.05063942,\n",
       "         0.03178171,  0.00603511,  0.03263571,  0.04095412, -0.03087322,\n",
       "        -0.04920144, -0.00902385, -0.01888354,  0.01480566, -0.03341984,\n",
       "         0.02035177, -0.03593323, -0.05379214, -0.02966005, -0.04736385,\n",
       "         0.07132911,  0.04189755,  0.06261933, -0.04092811,  0.02211368,\n",
       "         0.00990148,  0.04943537, -0.02463776, -0.00326641], dtype=float32),\n",
       " array([[ 0.11982864, -0.23038653, -0.08271983, ..., -0.01211698,\n",
       "         -0.08129098, -0.15576084],\n",
       "        [ 0.16262425, -0.14477426, -0.11735265, ..., -0.00861411,\n",
       "         -0.05419112,  0.01928402],\n",
       "        [ 0.18259746,  0.14605412,  0.14597818, ..., -0.01569533,\n",
       "         -0.05429713,  0.03994622],\n",
       "        ...,\n",
       "        [ 0.0023373 ,  0.18501377, -0.09154504, ...,  0.00339599,\n",
       "         -0.16153057,  0.15470067],\n",
       "        [-0.02407268,  0.21289729, -0.23288427, ..., -0.03903574,\n",
       "         -0.05858994, -0.1631838 ],\n",
       "        [-0.02446077,  0.17956914, -0.00488662, ...,  0.05990565,\n",
       "         -0.06405441,  0.00995774]], dtype=float32),\n",
       " array([-0.01337338, -0.03538933, -0.06961607, -0.05399827, -0.03344208,\n",
       "        -0.02105915, -0.05367114, -0.03362315, -0.04444649, -0.02634955,\n",
       "        -0.08241481, -0.0002166 , -0.02636264, -0.01912636, -0.01355244,\n",
       "        -0.01790136, -0.05452012, -0.15616663, -0.14537112,  0.00768296,\n",
       "        -0.05157376, -0.03745088, -0.02117841, -0.08997545,  0.01647582,\n",
       "        -0.09266891, -0.04127013,  0.00223898, -0.02224277,  0.0078276 ,\n",
       "        -0.04620718,  0.00939728, -0.03326173, -0.02012817, -0.04970936,\n",
       "        -0.0722461 , -0.01380009, -0.05073412, -0.01639143, -0.03618389,\n",
       "        -0.00220599, -0.03091937, -0.01445645, -0.18091525, -0.07486565,\n",
       "         0.01556167, -0.02222825, -0.05296517, -0.05008458, -0.03367053,\n",
       "        -0.05516516, -0.03927545, -0.03898076, -0.04178527, -0.07220308,\n",
       "        -0.02674609, -0.03267483, -0.01959773, -0.01482595, -0.03323096,\n",
       "        -0.0321419 , -0.07291592, -0.00139579, -0.05019054], dtype=float32),\n",
       " array([[-0.0893405 ],\n",
       "        [ 0.06808787],\n",
       "        [ 0.09324352],\n",
       "        [ 0.07846077],\n",
       "        [ 0.12942098],\n",
       "        [-0.14196946],\n",
       "        [-0.07427219],\n",
       "        [ 0.12479539],\n",
       "        [ 0.03183621],\n",
       "        [-0.10312436],\n",
       "        [ 0.01554713],\n",
       "        [-0.09675075],\n",
       "        [ 0.08932736],\n",
       "        [-0.00504364],\n",
       "        [ 0.13223025],\n",
       "        [-0.06317972],\n",
       "        [-0.07043955],\n",
       "        [ 0.00500166],\n",
       "        [-0.00473022],\n",
       "        [-0.14827906],\n",
       "        [ 0.12030011],\n",
       "        [ 0.15141772],\n",
       "        [-0.00035775],\n",
       "        [ 0.00182022],\n",
       "        [-0.12471231],\n",
       "        [ 0.13237292],\n",
       "        [ 0.15836205],\n",
       "        [-0.17522985],\n",
       "        [-0.1523703 ],\n",
       "        [-0.03544628],\n",
       "        [-0.16067623],\n",
       "        [-0.07538295],\n",
       "        [ 0.02130423],\n",
       "        [-0.07636391],\n",
       "        [-0.03037622],\n",
       "        [ 0.07901036],\n",
       "        [-0.1763241 ],\n",
       "        [-0.00380616],\n",
       "        [-0.13310868],\n",
       "        [ 0.12834173],\n",
       "        [-0.1674853 ],\n",
       "        [-0.00214258],\n",
       "        [ 0.0124048 ],\n",
       "        [-0.00791011],\n",
       "        [ 0.02569635],\n",
       "        [-0.111624  ],\n",
       "        [ 0.10945968],\n",
       "        [ 0.15844712],\n",
       "        [ 0.17592575],\n",
       "        [-0.0603025 ],\n",
       "        [ 0.00804216],\n",
       "        [-0.07942734],\n",
       "        [ 0.02191419],\n",
       "        [-0.07239459],\n",
       "        [-0.07479984],\n",
       "        [ 0.03314103],\n",
       "        [ 0.14566158],\n",
       "        [-0.11015175],\n",
       "        [-0.03295314],\n",
       "        [ 0.18423186],\n",
       "        [ 0.14146967],\n",
       "        [ 0.11031917],\n",
       "        [-0.1441307 ],\n",
       "        [ 0.0679152 ]], dtype=float32),\n",
       " array([-0.01582763], dtype=float32)]"
      ]
     },
     "execution_count": 20,
     "metadata": {},
     "output_type": "execute_result"
    }
   ],
   "source": [
    "model.get_weights()"
   ]
  },
  {
   "cell_type": "code",
   "execution_count": 21,
   "metadata": {},
   "outputs": [],
   "source": [
    "# Helper funstions\n",
    "# function to decode reviews\n",
    "def decode_review(encoded_review):\n",
    "    return ' '.join([reversed_word_index.get(i-3, '?') for i in encoded_review])  "
   ]
  },
  {
   "cell_type": "code",
   "execution_count": 22,
   "metadata": {},
   "outputs": [],
   "source": [
    "# Function to preprocess user input\n",
    "def preprocess_text(text):\n",
    "    '''\n",
    "    Converts the text to lowercase using text.lower() to make the process case-insensitive.\n",
    "    Splits the lowercase text into individual words using the .split() method, creating a list of words.\n",
    "    Purpose: Ensures consistent text processing and tokenization by treating \"The\" and \"the\" as the same word.\n",
    "    '''\n",
    "    words = text.lower().split()\n",
    "    \n",
    "    '''\n",
    "    Iterates over the list of words.\n",
    "    For each word, retrieves its corresponding integer index from a dictionary named word_index using word_index.get(word, 2).\n",
    "    If the word is not found in the word_index dictionary, it assigns a default value of 2 (a placeholder for unknown words).\n",
    "    Adds 3 to each index value to account for special tokens like <PAD>, <START>, or <UNK> (customarily reserved in text preprocessing).\n",
    "    Purpose: Transforms the text into a sequence of integers that represent the words, making it suitable for input to machine learning models.\n",
    "    \n",
    "    '''\n",
    "    encoded_review = [word_index.get(word, 2) + 3 for word in words]\n",
    "    \n",
    "    '''\n",
    "    Passes the encoded_review to sequence.pad_sequences() to ensure all sequences have the same length.\n",
    "    maxlen=500: Specifies that the output sequence should be exactly 500 words long.\n",
    "    padding='post': Adds zeros (<PAD> tokens) to the end of the sequence if it’s shorter than 500 words.\n",
    "    truncating='post': Removes words from the end of the sequence if it’s longer than 500 words.\n",
    "    Wraps encoded_review in a list ([encoded_review]) because pad_sequences expects a list of sequences.\n",
    "    Purpose: Ensures a fixed sequence length for all reviews, which is required for deep learning models.\n",
    "    \n",
    "    '''\n",
    "    padded_review = sequence.pad_sequences([encoded_review], maxlen=500, padding='post', truncating='post')\n",
    "    return padded_review"
   ]
  },
  {
   "cell_type": "code",
   "execution_count": 23,
   "metadata": {},
   "outputs": [],
   "source": [
    "# Prediction function\n",
    "def predict_sentiment(review):\n",
    "    \n",
    "    '''\n",
    "    Calls the preprocess_text function to preprocess the user input review.\n",
    "    Passes the preprocessed review to the model for prediction.\n",
    "    Returns the predicted sentiment (0 for negative, 1 for positive).'''\n",
    "    \n",
    "    preprocessed_input= preprocess_text(review)\n",
    "    '''\n",
    "    Calls the model.predict() method to make a prediction on the preprocessed review.\n",
    "    Returns the predicted sentiment (0 for negative, 1 for positive).'''\n",
    "    \n",
    "    prediction = model.predict(preprocessed_input)\n",
    "    \n",
    "    sentiment = 'Positive' if prediction[0][0] > 0.5 else 'Negative'\n",
    "    \n",
    "    return sentiment, prediction[0][0]"
   ]
  },
  {
   "cell_type": "code",
   "execution_count": 25,
   "metadata": {},
   "outputs": [
    {
     "name": "stdout",
     "output_type": "stream",
     "text": [
      "\u001b[1m1/1\u001b[0m \u001b[32m━━━━━━━━━━━━━━━━━━━━\u001b[0m\u001b[37m\u001b[0m \u001b[1m0s\u001b[0m 38ms/step\n",
      "Review: This movie was fantastic! The acting was great and the plot was thrilling.\n",
      "Sentiment: Positive\n",
      "Prediction Score: 0.9105536937713623\n"
     ]
    }
   ],
   "source": [
    "# Example review for prediction\n",
    "example_review =\"This movie was fantastic! The acting was great and the plot was thrilling.\"\n",
    "\n",
    "sentiment,score=predict_sentiment(example_review)\n",
    "\n",
    "print(f'Review: {example_review}')\n",
    "print(f'Sentiment: {sentiment}')\n",
    "print(f'Prediction Score: {score}')"
   ]
  },
  {
   "cell_type": "code",
   "execution_count": null,
   "metadata": {},
   "outputs": [],
   "source": []
  }
 ],
 "metadata": {
  "kernelspec": {
   "display_name": "venv",
   "language": "python",
   "name": "python3"
  },
  "language_info": {
   "codemirror_mode": {
    "name": "ipython",
    "version": 3
   },
   "file_extension": ".py",
   "mimetype": "text/x-python",
   "name": "python",
   "nbconvert_exporter": "python",
   "pygments_lexer": "ipython3",
   "version": "3.12.0"
  }
 },
 "nbformat": 4,
 "nbformat_minor": 2
}
